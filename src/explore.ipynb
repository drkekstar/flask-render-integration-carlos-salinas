{
 "cells": [
  {
   "cell_type": "code",
   "execution_count": 1,
   "id": "7402f9dd",
   "metadata": {},
   "outputs": [
    {
     "name": "stdout",
     "output_type": "stream",
     "text": [
      "Predicción para la primera muestra: [0]\n"
     ]
    },
    {
     "name": "stderr",
     "output_type": "stream",
     "text": [
      "Bad pipe message: %s [b'0.9,image/avif,image/webp,image/apng,*/*;q=0.8,application/signed-exchange;v=b3;q=0.7\\r\\nHost: localhost:45171\\r\\nUs', b'-Agent: Mozilla/5.0 (Macintosh; Intel Mac OS X 10_15_7) AppleWebKit/537.36 (KHTML, like Gecko) Chrom']\n",
      "Bad pipe message: %s [b'138.0.0.0 Safari/537.36\\r\\nAccept-Encoding: gzip, deflate, br, zstd\\r\\nAccept-Language: en-US,en;q=0.9\\r\\n', b'che-Control: max-age=0\\r\\nReferer: https://glowing-space-couscous-97', b'59g4v4pg2q56.github.dev/\\r\\nX-Request-ID: 463b7cd8c0bbdb0f50d69fd9bae9e8c8\\r\\nX-Real-IP: 190.153.16.198\\r\\nX-Forwarded-Port:']\n",
      "Bad pipe message: %s [b'43\\r\\nX-Forwarded-Scheme: https\\r\\n']\n",
      "Bad pipe message: %s [b'Original-URI: /\\r\\nX-Scheme: https\\r\\nsec-fetch-site: same-site\\r\\nsec-fetch-mode: navigate\\r\\n', b'c-fetch-dest: document\\r\\nsec-ch-ua: \"Not)A;Brand\";v=\"8\", \"Chromium\";v=\"138\", \"Google Chrome\";v=\"138\"\\r\\nsec-ch-ua-mob', b'e: ?0\\r\\nsec-ch-ua-platform: \"macOS\"\\r\\npriority: u=0, i\\r\\nX-Original-Proto: https\\r\\nCookie: _ga_2B75G58TF7=GS']\n",
      "Bad pipe message: %s [b'1.s1751148299$o9$g0$t1751148300$j59$l0$h0\\r\\nX-Forw']\n",
      "Bad pipe message: %s [b'ded-Proto: https\\r\\nX-Forwarded-Host: glowing-space-couscous-97wp59g4v4pg2q56-45171.app.github.dev']\n",
      "Bad pipe message: %s [b'X-Forwarded-']\n",
      "Bad pipe message: %s [b'0.9,image/avif,image/webp,image/apng,*/*;q=0.8,application/signed-exchange;v=b3;q=0.7\\r\\nHost: localhost:45171\\r\\nUs', b'-Agent: Mozilla/5.0 (Macintosh; Intel Mac OS X 10_15_7) AppleWebKit/537.36 (KHTML, like Gecko) Chrom']\n",
      "Bad pipe message: %s [b'138.0.0.0 Safari/537.36\\r\\nAccept-Encoding: gzip, deflate, br, zstd\\r\\nAccept-Language: en-US,en;q=0.9\\r\\n', b'che-Control: max-age=0\\r\\nReferer: https://glowing-space-couscous-97', b'59g4v4pg2q56.github.dev/\\r\\nX-Request-ID: 102723f9b7efd304215f2b38e4bad750\\r\\nX-Real-IP: 190.153.16.198\\r\\nX-Forwarded-Port:']\n",
      "Bad pipe message: %s [b'43\\r\\nX-Forwarded-Scheme: https\\r\\n']\n",
      "Bad pipe message: %s [b'Original-URI: /\\r\\nX-Scheme: https\\r\\nsec-fetch-site: same-site\\r\\nsec-fetch-mode: navigate\\r\\n', b'c-fetch-dest: document\\r\\nsec-ch-ua: \"Not)A;Brand\";v=\"8\", \"Chromium\";v=\"138\", \"Google Chrome\";v=\"138\"\\r\\nsec-ch-ua-mob', b'e: ?0\\r\\nsec-ch-ua-platform: \"macOS\"\\r\\npriority: u=0, i\\r\\nX-Original-Proto: https\\r\\nCookie: _ga_2B75G58TF7=GS']\n",
      "Bad pipe message: %s [b'1.s1751148299$o9$g0$t1751148300$j59$l0$h0\\r\\nX-Forw']\n",
      "Bad pipe message: %s [b'ded-Proto: https\\r\\nX-Forwarded-Host: glowing-space-couscous-97wp59g4v4pg2q56-45171.app.github.dev']\n",
      "Bad pipe message: %s [b'X-Forwarded-']\n",
      "Bad pipe message: %s [b'0.9,image/avif,image/webp,image/apng,*/*;q=0.8,application/signed-exchange;v=b3;q=0.7\\r\\nHost: localhost:45171\\r\\nUs', b'-Agent: Mozilla/5.0 (Macintosh; Intel Mac OS X 10_15_7) AppleWebKit/537.36 (KHTML, like Gecko) Chrom']\n",
      "Bad pipe message: %s [b'138.0.0.0 Safari/537.36\\r\\nAccept-Encoding: gzip, deflate, br, zstd\\r\\nAccept-Language: en-US,en;q=0.9\\r\\n', b'ferer: https://glowing-space-couscous-97wp59g4v4pg2q56.github.dev/\\r\\nX-Request-ID:', b'c9bce50657899ff14c4a627240b9f4c']\n",
      "Bad pipe message: %s [b'X-Real-IP: 1']\n",
      "Bad pipe message: %s [b'.153.16.198\\r\\nX-Forwarded-Port: 443\\r\\nX-Forwarded-Scheme: ']\n",
      "Bad pipe message: %s [b'tps\\r\\nX-Original-URI: /\\r\\nX-Scheme: https\\r\\nsec-ch-ua: \"Not)A;Brand\";v=\"8\", \"Chromium\";v=\"138\", \"Google Ch']\n",
      "Bad pipe message: %s [b'me\";v=\"138\"\\r\\nsec-ch-ua-mobile: ?0\\r\\nsec-ch-ua-platform: \"macOS\"\\r\\nsec-fetch-site: same-site\\r\\nsec-fetch-mode: naviga', b'\\r\\nsec-fetch-user: ?1\\r\\nsec-fetch-dest: document\\r\\npriority: u=0, i\\r\\nX-Original-Proto: https\\r\\nCookie: _ga_2B75G58TF7=G', b'.1.s1751148299$o9$g0$t1751148300$j59$l0$h0\\r\\nX-Forwarded-Proto: https\\r\\nX-Forwarded-']\n",
      "Bad pipe message: %s [b'0.9,image/avif,image/webp,image/apng,*/*;q=0.8,application/signed-exchange;v=b3;q=0.7\\r\\nHost: localhost:45171\\r\\nUs', b'-Agent: Mozilla/5.0 (Macintosh; Intel Mac OS X 10_15_7) AppleWebKit/537.36 (KHTML, like Gecko) Chrom']\n",
      "Bad pipe message: %s [b'138.0.0.0 Safari/537.36\\r\\nAccept-Encoding: gzip, deflate, br, zstd\\r\\nAccept-Language: en-US,en;q=0.9\\r\\n', b'che-Control: max-age=0\\r\\nReferer: https://glowing-space-couscous-97', b'59g4v4pg2q56.github.dev/\\r\\nX-Request-ID: d99021ac39ef2d0940a5da235a2e1b18\\r\\nX-Real-IP: 190.153.16.198\\r\\nX-Forwarded-Port:']\n",
      "Bad pipe message: %s [b'43\\r\\nX-Forwarded-Scheme: https\\r\\n']\n",
      "Bad pipe message: %s [b'Original-URI: /\\r\\nX-Scheme: https\\r\\nsec-ch-ua: \"Not)A;Brand\";v=\"8\", \"Chromium\";v=\"138\", \"', b'ogle Chrome\";v=\"138\"\\r\\nsec-ch-ua-mobile: ?0\\r\\nsec-ch-ua-platform: \"macOS', b'\\nsec-fetch-site: cross-site\\r\\nsec-', b'tch-mode: navigate\\r\\nsec-fetch-user: ?1\\r\\nsec-fetch-dest: document\\r\\npriority: u=0, i\\r\\nX-Original-Proto:', b'ttps\\r\\nCookie: _ga_2B75G58TF7=GS']\n",
      "Bad pipe message: %s [b'1.s1751148299$o9$g0$t1751148300$j59$l0$h0\\r\\nX-Forw']\n",
      "Bad pipe message: %s [b'ded-Proto: https\\r\\nX-Forwarded-Host: glowing-space-couscous-97wp59g4v4pg2q56-45171.app.github.dev']\n",
      "Bad pipe message: %s [b'X-Forwarded-']\n"
     ]
    }
   ],
   "source": [
    "from sklearn.datasets import load_iris\n",
    "from sklearn.tree import DecisionTreeClassifier\n",
    "\n",
    "# Cargar el conjunto de datos Iris\n",
    "iris = load_iris()\n",
    "X, y = iris.data, iris.target\n",
    "\n",
    "# Crear y entrenar el modelo de árbol de decisión\n",
    "clf = DecisionTreeClassifier()\n",
    "clf.fit(X, y)\n",
    "\n",
    "# Realizar una predicción (ejemplo: primera muestra)\n",
    "prediccion = clf.predict([X[0]])\n",
    "print(\"Predicción para la primera muestra:\", prediccion)\n",
    "\n",
    "#guarda el modelo entrenado en la carpeta ../models\n",
    "\n",
    "from pickle import dump\n",
    "with open('../models/decision_tree_model.pkl', 'wb') as f:\n",
    "    dump(clf, f)    "
   ]
  }
 ],
 "metadata": {
  "kernelspec": {
   "display_name": "Python 3",
   "language": "python",
   "name": "python3"
  },
  "language_info": {
   "codemirror_mode": {
    "name": "ipython",
    "version": 3
   },
   "file_extension": ".py",
   "mimetype": "text/x-python",
   "name": "python",
   "nbconvert_exporter": "python",
   "pygments_lexer": "ipython3",
   "version": "3.11.4"
  }
 },
 "nbformat": 4,
 "nbformat_minor": 5
}
